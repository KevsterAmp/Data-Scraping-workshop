{
  "cells": [
    {
      "attachments": {},
      "cell_type": "markdown",
      "metadata": {},
      "source": [
        "# Importing and Installing libraries"
      ]
    },
    {
      "cell_type": "code",
      "execution_count": 15,
      "metadata": {
        "id": "Tt3yQTA6AkiB"
      },
      "outputs": [],
      "source": [
        "!pip install bs4 --quiet"
      ]
    },
    {
      "cell_type": "code",
      "execution_count": 16,
      "metadata": {
        "id": "z5jy11SqAqgd"
      },
      "outputs": [],
      "source": [
        "import pandas as pd\n",
        "import numpy as np\n",
        "import requests\n",
        "from bs4 import BeautifulSoup"
      ]
    },
    {
      "attachments": {},
      "cell_type": "markdown",
      "metadata": {
        "id": "-Q7aMMcgBASe"
      },
      "source": [
        "# Building the Webscraping program"
      ]
    },
    {
      "cell_type": "code",
      "execution_count": 17,
      "metadata": {
        "id": "zgDhPLmPA_Ca"
      },
      "outputs": [],
      "source": [
        "#Initialize the needed variables\n",
        "url = 'https://quotes.toscrape.com/'\n",
        "useragent = {'User-agent': 'Mozilla/5.0 (Windows NT 10.0; Win64; x64) AppleWebKit/537.36 (KHTML, like Gecko) Chrome/110.0.0.0 Safari/537.36 Edg/110.0.1587.69'}"
      ]
    },
    {
      "cell_type": "code",
      "execution_count": 18,
      "metadata": {
        "id": "FyAfwDb7BNbR"
      },
      "outputs": [],
      "source": [
        "#Get the HTML from the URL\n",
        "r = requests.get(url, headers=useragent)\n",
        "html = BeautifulSoup(r.text)"
      ]
    },
    {
      "cell_type": "code",
      "execution_count": 19,
      "metadata": {
        "colab": {
          "base_uri": "https://localhost:8080/"
        },
        "id": "H-zGyK8ZBbqg",
        "outputId": "80642114-9d40-4175-bc13-a3c1dc5b8dee"
      },
      "outputs": [
        {
          "data": {
            "text/plain": [
              "<Response [200]>"
            ]
          },
          "execution_count": 19,
          "metadata": {},
          "output_type": "execute_result"
        }
      ],
      "source": [
        "#Check the response code\n",
        "r"
      ]
    },
    {
      "cell_type": "code",
      "execution_count": 20,
      "metadata": {
        "colab": {
          "base_uri": "https://localhost:8080/"
        },
        "id": "JpvrcoslBprX",
        "outputId": "352f2fca-db42-48d5-8645-6ce5335420d8"
      },
      "outputs": [
        {
          "data": {
            "text/plain": [
              "[<span class=\"text\" itemprop=\"text\">“The world as we have created it is a process of our thinking. It cannot be changed without changing our thinking.”</span>,\n",
              " <span class=\"text\" itemprop=\"text\">“It is our choices, Harry, that show what we truly are, far more than our abilities.”</span>,\n",
              " <span class=\"text\" itemprop=\"text\">“There are only two ways to live your life. One is as though nothing is a miracle. The other is as though everything is a miracle.”</span>,\n",
              " <span class=\"text\" itemprop=\"text\">“The person, be it gentleman or lady, who has not pleasure in a good novel, must be intolerably stupid.”</span>,\n",
              " <span class=\"text\" itemprop=\"text\">“Imperfection is beauty, madness is genius and it's better to be absolutely ridiculous than absolutely boring.”</span>,\n",
              " <span class=\"text\" itemprop=\"text\">“Try not to become a man of success. Rather become a man of value.”</span>,\n",
              " <span class=\"text\" itemprop=\"text\">“It is better to be hated for what you are than to be loved for what you are not.”</span>,\n",
              " <span class=\"text\" itemprop=\"text\">“I have not failed. I've just found 10,000 ways that won't work.”</span>,\n",
              " <span class=\"text\" itemprop=\"text\">“A woman is like a tea bag; you never know how strong it is until it's in hot water.”</span>,\n",
              " <span class=\"text\" itemprop=\"text\">“A day without sunshine is like, you know, night.”</span>]"
            ]
          },
          "execution_count": 20,
          "metadata": {},
          "output_type": "execute_result"
        }
      ],
      "source": [
        "#Get the quotes\n",
        "quotes = html.select(\"span.text\")\n",
        "quotes"
      ]
    },
    {
      "cell_type": "code",
      "execution_count": 21,
      "metadata": {
        "colab": {
          "base_uri": "https://localhost:8080/"
        },
        "id": "VDl77UfWCJXE",
        "outputId": "3a2b4286-1c01-49dc-c555-4779aea4d3d9"
      },
      "outputs": [
        {
          "name": "stdout",
          "output_type": "stream",
          "text": [
            "“The world as we have created it is a process of our thinking. It cannot be changed without changing our thinking.”\n",
            "“It is our choices, Harry, that show what we truly are, far more than our abilities.”\n",
            "“There are only two ways to live your life. One is as though nothing is a miracle. The other is as though everything is a miracle.”\n",
            "“The person, be it gentleman or lady, who has not pleasure in a good novel, must be intolerably stupid.”\n",
            "“Imperfection is beauty, madness is genius and it's better to be absolutely ridiculous than absolutely boring.”\n",
            "“Try not to become a man of success. Rather become a man of value.”\n",
            "“It is better to be hated for what you are than to be loved for what you are not.”\n",
            "“I have not failed. I've just found 10,000 ways that won't work.”\n",
            "“A woman is like a tea bag; you never know how strong it is until it's in hot water.”\n",
            "“A day without sunshine is like, you know, night.”\n"
          ]
        }
      ],
      "source": [
        "for quote in quotes:\n",
        "  print(quote.text)"
      ]
    },
    {
      "cell_type": "code",
      "execution_count": 22,
      "metadata": {
        "colab": {
          "base_uri": "https://localhost:8080/"
        },
        "id": "6gktjLwuCaMZ",
        "outputId": "d42fcfb9-0c2b-4dba-8c77-efed5d27741e"
      },
      "outputs": [
        {
          "data": {
            "text/plain": [
              "[<small class=\"author\" itemprop=\"author\">Albert Einstein</small>,\n",
              " <small class=\"author\" itemprop=\"author\">J.K. Rowling</small>,\n",
              " <small class=\"author\" itemprop=\"author\">Albert Einstein</small>,\n",
              " <small class=\"author\" itemprop=\"author\">Jane Austen</small>,\n",
              " <small class=\"author\" itemprop=\"author\">Marilyn Monroe</small>,\n",
              " <small class=\"author\" itemprop=\"author\">Albert Einstein</small>,\n",
              " <small class=\"author\" itemprop=\"author\">André Gide</small>,\n",
              " <small class=\"author\" itemprop=\"author\">Thomas A. Edison</small>,\n",
              " <small class=\"author\" itemprop=\"author\">Eleanor Roosevelt</small>,\n",
              " <small class=\"author\" itemprop=\"author\">Steve Martin</small>]"
            ]
          },
          "execution_count": 22,
          "metadata": {},
          "output_type": "execute_result"
        }
      ],
      "source": [
        "#Get the authors\n",
        "authors = html.select(\"small.author\")\n",
        "authors"
      ]
    },
    {
      "cell_type": "code",
      "execution_count": 23,
      "metadata": {
        "colab": {
          "base_uri": "https://localhost:8080/"
        },
        "id": "9IuOjlw8ChFy",
        "outputId": "861e7754-edff-47c5-9283-221053705315"
      },
      "outputs": [
        {
          "name": "stdout",
          "output_type": "stream",
          "text": [
            "Albert Einstein\n",
            "J.K. Rowling\n",
            "Albert Einstein\n",
            "Jane Austen\n",
            "Marilyn Monroe\n",
            "Albert Einstein\n",
            "André Gide\n",
            "Thomas A. Edison\n",
            "Eleanor Roosevelt\n",
            "Steve Martin\n"
          ]
        }
      ],
      "source": [
        "for author in authors:\n",
        "  print(author.text)"
      ]
    },
    {
      "cell_type": "code",
      "execution_count": 24,
      "metadata": {
        "colab": {
          "base_uri": "https://localhost:8080/"
        },
        "id": "G3eUn1vKCmHZ",
        "outputId": "8a7873b4-0c53-4c5b-ac15-78904fa03890"
      },
      "outputs": [
        {
          "data": {
            "text/plain": [
              "<div class=\"quote\" itemscope=\"\" itemtype=\"http://schema.org/CreativeWork\">\n",
              "<span class=\"text\" itemprop=\"text\">“The world as we have created it is a process of our thinking. It cannot be changed without changing our thinking.”</span>\n",
              "<span>by <small class=\"author\" itemprop=\"author\">Albert Einstein</small>\n",
              "<a href=\"/author/Albert-Einstein\">(about)</a>\n",
              "</span>\n",
              "<div class=\"tags\">\n",
              "            Tags:\n",
              "            <meta class=\"keywords\" content=\"change,deep-thoughts,thinking,world\" itemprop=\"keywords\"/>\n",
              "<a class=\"tag\" href=\"/tag/change/page/1/\">change</a>\n",
              "<a class=\"tag\" href=\"/tag/deep-thoughts/page/1/\">deep-thoughts</a>\n",
              "<a class=\"tag\" href=\"/tag/thinking/page/1/\">thinking</a>\n",
              "<a class=\"tag\" href=\"/tag/world/page/1/\">world</a>\n",
              "</div>\n",
              "</div>"
            ]
          },
          "execution_count": 24,
          "metadata": {},
          "output_type": "execute_result"
        }
      ],
      "source": [
        "#Locatting the divs\n",
        "divs = html.select(\"div.quote\")\n",
        "divs[0]"
      ]
    },
    {
      "cell_type": "code",
      "execution_count": 30,
      "metadata": {
        "id": "Yb2X4DN-DBqq"
      },
      "outputs": [],
      "source": [
        "#Combining all the css selectors and locating it per div\n",
        "div = divs[0]\n",
        "quote = div.select_one(\"span.text\")\n",
        "author = div.select_one(\"small.author\")\n",
        "tags = div.select(\"div.tags a\")\n",
        "if tags is not None:\n",
        "  clean_tags = (\", \").join([tag.text.strip() for tag in tags if tag is not None])\n",
        "else:\n",
        "  clean_tags = tags\n"
      ]
    },
    {
      "cell_type": "code",
      "execution_count": 34,
      "metadata": {},
      "outputs": [
        {
          "name": "stdout",
          "output_type": "stream",
          "text": [
            "Quote: “The truth.\" Dumbledore sighed. \"It is a beautiful and terrible thing, and should therefore be treated with great caution.”\n",
            "Author: J.K. Rowling\n",
            "Tags: truth\n"
          ]
        }
      ],
      "source": [
        "#printing the results\n",
        "print(\"Quote: \" + quote.text)\n",
        "print(\"Author: \" + author.text)\n",
        "print(\"Tags: \" + clean_tags)"
      ]
    },
    {
      "cell_type": "markdown",
      "metadata": {
        "id": "AYNlrkTTHy02"
      },
      "source": [
        "# Final Webscraper"
      ]
    },
    {
      "cell_type": "code",
      "execution_count": 26,
      "metadata": {
        "id": "cU3_atoiC1kV"
      },
      "outputs": [],
      "source": [
        "#Creating a function to get the tag.text and return NONE if the tag is None\n",
        "def to_text(tag):\n",
        "  if tag is not None:\n",
        "    return tag.text\n",
        "  else: \n",
        "    return tag"
      ]
    },
    {
      "cell_type": "code",
      "execution_count": 39,
      "metadata": {
        "colab": {
          "base_uri": "https://localhost:8080/"
        },
        "id": "WVh8fwzaEPL3",
        "outputId": "57262335-974b-4251-bca4-de5629ef7665"
      },
      "outputs": [
        {
          "name": "stdout",
          "output_type": "stream",
          "text": [
            "entering url: https://quotes.toscrape.com/page/1/\n",
            "quote, author, tags appended from https://quotes.toscrape.com/page/1/ appended to output_dict\n",
            "entering url: https://quotes.toscrape.com/page/2/\n",
            "quote, author, tags appended from https://quotes.toscrape.com/page/2/ appended to output_dict\n",
            "entering url: https://quotes.toscrape.com/page/3/\n",
            "quote, author, tags appended from https://quotes.toscrape.com/page/3/ appended to output_dict\n",
            "entering url: https://quotes.toscrape.com/page/4/\n",
            "quote, author, tags appended from https://quotes.toscrape.com/page/4/ appended to output_dict\n",
            "entering url: https://quotes.toscrape.com/page/5/\n",
            "quote, author, tags appended from https://quotes.toscrape.com/page/5/ appended to output_dict\n",
            "entering url: https://quotes.toscrape.com/page/6/\n",
            "quote, author, tags appended from https://quotes.toscrape.com/page/6/ appended to output_dict\n",
            "entering url: https://quotes.toscrape.com/page/7/\n",
            "quote, author, tags appended from https://quotes.toscrape.com/page/7/ appended to output_dict\n",
            "entering url: https://quotes.toscrape.com/page/8/\n",
            "quote, author, tags appended from https://quotes.toscrape.com/page/8/ appended to output_dict\n",
            "entering url: https://quotes.toscrape.com/page/9/\n",
            "quote, author, tags appended from https://quotes.toscrape.com/page/9/ appended to output_dict\n",
            "entering url: https://quotes.toscrape.com/page/10/\n",
            "quote, author, tags appended from https://quotes.toscrape.com/page/10/ appended to output_dict\n"
          ]
        }
      ],
      "source": [
        "#Initalize the output dictionary\n",
        "output_dict = {\n",
        "    'quote': [],\n",
        "    'author': [],\n",
        "    'tags': []\n",
        "}\n",
        "\n",
        "#List comprehension that contains the list of urls\n",
        "urls = [f\"https://quotes.toscrape.com/page/{str(i)}/\" for i in range(1,11)]\n",
        "\n",
        "#loop through the url list and parse the html\n",
        "for url in urls:\n",
        "  r = requests.get(url, headers=useragent)\n",
        "  html = BeautifulSoup(r.text) \n",
        "\n",
        "  print(\"entering url: \" + url)\n",
        "  divs = html.select(\"div.quote\")\n",
        "  \n",
        "  #loop through the divs and append the results to the output dictionary\n",
        "  for div in divs:\n",
        "    text = to_text(div.select_one(\"span.text\"))\n",
        "    author = to_text(div.select_one(\"small.author\"))\n",
        "    tags = div.select(\"div.tags a\")\n",
        "    tags = (\", \").join([tag.text.strip() for tag in tags]) if tags is not None else \"\"\n",
        "\n",
        "    output_dict['quote'].append(text)\n",
        "    output_dict['author'].append(author)\n",
        "    output_dict['tags'].append(tags)\n",
        "  print(f\"quote, author, tags appended from {url} appended to output_dict\")"
      ]
    },
    {
      "cell_type": "code",
      "execution_count": 46,
      "metadata": {
        "colab": {
          "base_uri": "https://localhost:8080/",
          "height": 1332
        },
        "id": "mFfBYWytFhga",
        "outputId": "7b137bed-7515-448a-bde2-35ed06ee89ff"
      },
      "outputs": [
        {
          "data": {
            "text/html": [
              "<div>\n",
              "<style scoped>\n",
              "    .dataframe tbody tr th:only-of-type {\n",
              "        vertical-align: middle;\n",
              "    }\n",
              "\n",
              "    .dataframe tbody tr th {\n",
              "        vertical-align: top;\n",
              "    }\n",
              "\n",
              "    .dataframe thead th {\n",
              "        text-align: right;\n",
              "    }\n",
              "</style>\n",
              "<table border=\"1\" class=\"dataframe\">\n",
              "  <thead>\n",
              "    <tr style=\"text-align: right;\">\n",
              "      <th></th>\n",
              "      <th>quote</th>\n",
              "      <th>author</th>\n",
              "      <th>tags</th>\n",
              "    </tr>\n",
              "  </thead>\n",
              "  <tbody>\n",
              "    <tr>\n",
              "      <th>0</th>\n",
              "      <td>“The world as we have created it is a process ...</td>\n",
              "      <td>Albert Einstein</td>\n",
              "      <td>change, deep-thoughts, thinking, world</td>\n",
              "    </tr>\n",
              "    <tr>\n",
              "      <th>1</th>\n",
              "      <td>“It is our choices, Harry, that show what we t...</td>\n",
              "      <td>J.K. Rowling</td>\n",
              "      <td>abilities, choices</td>\n",
              "    </tr>\n",
              "    <tr>\n",
              "      <th>2</th>\n",
              "      <td>“There are only two ways to live your life. On...</td>\n",
              "      <td>Albert Einstein</td>\n",
              "      <td>inspirational, life, live, miracle, miracles</td>\n",
              "    </tr>\n",
              "    <tr>\n",
              "      <th>3</th>\n",
              "      <td>“The person, be it gentleman or lady, who has ...</td>\n",
              "      <td>Jane Austen</td>\n",
              "      <td>aliteracy, books, classic, humor</td>\n",
              "    </tr>\n",
              "    <tr>\n",
              "      <th>4</th>\n",
              "      <td>“Imperfection is beauty, madness is genius and...</td>\n",
              "      <td>Marilyn Monroe</td>\n",
              "      <td>be-yourself, inspirational</td>\n",
              "    </tr>\n",
              "    <tr>\n",
              "      <th>5</th>\n",
              "      <td>“Try not to become a man of success. Rather be...</td>\n",
              "      <td>Albert Einstein</td>\n",
              "      <td>adulthood, success, value</td>\n",
              "    </tr>\n",
              "    <tr>\n",
              "      <th>6</th>\n",
              "      <td>“It is better to be hated for what you are tha...</td>\n",
              "      <td>André Gide</td>\n",
              "      <td>life, love</td>\n",
              "    </tr>\n",
              "    <tr>\n",
              "      <th>7</th>\n",
              "      <td>“I have not failed. I've just found 10,000 way...</td>\n",
              "      <td>Thomas A. Edison</td>\n",
              "      <td>edison, failure, inspirational, paraphrased</td>\n",
              "    </tr>\n",
              "    <tr>\n",
              "      <th>8</th>\n",
              "      <td>“A woman is like a tea bag; you never know how...</td>\n",
              "      <td>Eleanor Roosevelt</td>\n",
              "      <td>misattributed-eleanor-roosevelt</td>\n",
              "    </tr>\n",
              "    <tr>\n",
              "      <th>9</th>\n",
              "      <td>“A day without sunshine is like, you know, nig...</td>\n",
              "      <td>Steve Martin</td>\n",
              "      <td>humor, obvious, simile</td>\n",
              "    </tr>\n",
              "    <tr>\n",
              "      <th>10</th>\n",
              "      <td>“This life is what you make it. No matter what...</td>\n",
              "      <td>Marilyn Monroe</td>\n",
              "      <td>friends, heartbreak, inspirational, life, love...</td>\n",
              "    </tr>\n",
              "    <tr>\n",
              "      <th>11</th>\n",
              "      <td>“It takes a great deal of bravery to stand up ...</td>\n",
              "      <td>J.K. Rowling</td>\n",
              "      <td>courage, friends</td>\n",
              "    </tr>\n",
              "    <tr>\n",
              "      <th>12</th>\n",
              "      <td>“If you can't explain it to a six year old, yo...</td>\n",
              "      <td>Albert Einstein</td>\n",
              "      <td>simplicity, understand</td>\n",
              "    </tr>\n",
              "    <tr>\n",
              "      <th>13</th>\n",
              "      <td>“You may not be her first, her last, or her on...</td>\n",
              "      <td>Bob Marley</td>\n",
              "      <td>love</td>\n",
              "    </tr>\n",
              "    <tr>\n",
              "      <th>14</th>\n",
              "      <td>“I like nonsense, it wakes up the brain cells....</td>\n",
              "      <td>Dr. Seuss</td>\n",
              "      <td>fantasy</td>\n",
              "    </tr>\n",
              "    <tr>\n",
              "      <th>15</th>\n",
              "      <td>“I may not have gone where I intended to go, b...</td>\n",
              "      <td>Douglas Adams</td>\n",
              "      <td>life, navigation</td>\n",
              "    </tr>\n",
              "    <tr>\n",
              "      <th>16</th>\n",
              "      <td>“The opposite of love is not hate, it's indiff...</td>\n",
              "      <td>Elie Wiesel</td>\n",
              "      <td>activism, apathy, hate, indifference, inspirat...</td>\n",
              "    </tr>\n",
              "    <tr>\n",
              "      <th>17</th>\n",
              "      <td>“It is not a lack of love, but a lack of frien...</td>\n",
              "      <td>Friedrich Nietzsche</td>\n",
              "      <td>friendship, lack-of-friendship, lack-of-love, ...</td>\n",
              "    </tr>\n",
              "    <tr>\n",
              "      <th>18</th>\n",
              "      <td>“Good friends, good books, and a sleepy consci...</td>\n",
              "      <td>Mark Twain</td>\n",
              "      <td>books, contentment, friends, friendship, life</td>\n",
              "    </tr>\n",
              "    <tr>\n",
              "      <th>19</th>\n",
              "      <td>“Life is what happens to us while we are makin...</td>\n",
              "      <td>Allen Saunders</td>\n",
              "      <td>fate, life, misattributed-john-lennon, plannin...</td>\n",
              "    </tr>\n",
              "  </tbody>\n",
              "</table>\n",
              "</div>"
            ],
            "text/plain": [
              "                                                quote               author  \\\n",
              "0   “The world as we have created it is a process ...      Albert Einstein   \n",
              "1   “It is our choices, Harry, that show what we t...         J.K. Rowling   \n",
              "2   “There are only two ways to live your life. On...      Albert Einstein   \n",
              "3   “The person, be it gentleman or lady, who has ...          Jane Austen   \n",
              "4   “Imperfection is beauty, madness is genius and...       Marilyn Monroe   \n",
              "5   “Try not to become a man of success. Rather be...      Albert Einstein   \n",
              "6   “It is better to be hated for what you are tha...           André Gide   \n",
              "7   “I have not failed. I've just found 10,000 way...     Thomas A. Edison   \n",
              "8   “A woman is like a tea bag; you never know how...    Eleanor Roosevelt   \n",
              "9   “A day without sunshine is like, you know, nig...         Steve Martin   \n",
              "10  “This life is what you make it. No matter what...       Marilyn Monroe   \n",
              "11  “It takes a great deal of bravery to stand up ...         J.K. Rowling   \n",
              "12  “If you can't explain it to a six year old, yo...      Albert Einstein   \n",
              "13  “You may not be her first, her last, or her on...           Bob Marley   \n",
              "14  “I like nonsense, it wakes up the brain cells....            Dr. Seuss   \n",
              "15  “I may not have gone where I intended to go, b...        Douglas Adams   \n",
              "16  “The opposite of love is not hate, it's indiff...          Elie Wiesel   \n",
              "17  “It is not a lack of love, but a lack of frien...  Friedrich Nietzsche   \n",
              "18  “Good friends, good books, and a sleepy consci...           Mark Twain   \n",
              "19  “Life is what happens to us while we are makin...       Allen Saunders   \n",
              "\n",
              "                                                 tags  \n",
              "0              change, deep-thoughts, thinking, world  \n",
              "1                                  abilities, choices  \n",
              "2        inspirational, life, live, miracle, miracles  \n",
              "3                    aliteracy, books, classic, humor  \n",
              "4                          be-yourself, inspirational  \n",
              "5                           adulthood, success, value  \n",
              "6                                          life, love  \n",
              "7         edison, failure, inspirational, paraphrased  \n",
              "8                     misattributed-eleanor-roosevelt  \n",
              "9                              humor, obvious, simile  \n",
              "10  friends, heartbreak, inspirational, life, love...  \n",
              "11                                   courage, friends  \n",
              "12                             simplicity, understand  \n",
              "13                                               love  \n",
              "14                                            fantasy  \n",
              "15                                   life, navigation  \n",
              "16  activism, apathy, hate, indifference, inspirat...  \n",
              "17  friendship, lack-of-friendship, lack-of-love, ...  \n",
              "18      books, contentment, friends, friendship, life  \n",
              "19  fate, life, misattributed-john-lennon, plannin...  "
            ]
          },
          "execution_count": 46,
          "metadata": {},
          "output_type": "execute_result"
        }
      ],
      "source": [
        "#Create a dataframe from the output dictionary\n",
        "df = pd.DataFrame(output_dict)\n",
        "df.head(20)"
      ]
    }
  ],
  "metadata": {
    "colab": {
      "provenance": []
    },
    "kernelspec": {
      "display_name": "Python 3",
      "name": "python3"
    },
    "language_info": {
      "codemirror_mode": {
        "name": "ipython",
        "version": 3
      },
      "file_extension": ".py",
      "mimetype": "text/x-python",
      "name": "python",
      "nbconvert_exporter": "python",
      "pygments_lexer": "ipython3",
      "version": "3.11.1"
    }
  },
  "nbformat": 4,
  "nbformat_minor": 0
}
