{
 "cells": [
  {
   "attachments": {},
   "cell_type": "markdown",
   "metadata": {},
   "source": [
    "# Installing and Importing Python Libraries"
   ]
  },
  {
   "cell_type": "code",
   "execution_count": 48,
   "metadata": {},
   "outputs": [],
   "source": [
    "#!pip install bs4 --quiet"
   ]
  },
  {
   "cell_type": "code",
   "execution_count": 49,
   "metadata": {},
   "outputs": [],
   "source": [
    "import pandas as pd\n",
    "import numpy as np \n",
    "import requests\n",
    "from bs4 import BeautifulSoup"
   ]
  },
  {
   "attachments": {},
   "cell_type": "markdown",
   "metadata": {},
   "source": [
    "# Building the Webscraping Program"
   ]
  },
  {
   "cell_type": "code",
   "execution_count": 50,
   "metadata": {},
   "outputs": [],
   "source": [
    "url = 'https://github.com/KevsterAmp'\n",
    "useragent = {'User-agent': 'Mozilla/5.0'}"
   ]
  },
  {
   "cell_type": "code",
   "execution_count": 51,
   "metadata": {},
   "outputs": [],
   "source": [
    "r = requests.get(url, headers=useragent)\n",
    "html = BeautifulSoup(r.text)"
   ]
  },
  {
   "cell_type": "code",
   "execution_count": 52,
   "metadata": {},
   "outputs": [
    {
     "data": {
      "text/plain": [
       "'Kevin Christian Amparado'"
      ]
     },
     "execution_count": 52,
     "metadata": {},
     "output_type": "execute_result"
    }
   ],
   "source": [
    "name = html.select_one(\"span.p-name.vcard-fullname.d-block.overflow-hidden\").text.strip()\n",
    "name"
   ]
  },
  {
   "cell_type": "code",
   "execution_count": 53,
   "metadata": {},
   "outputs": [
    {
     "data": {
      "text/plain": [
       "'KevsterAmp'"
      ]
     },
     "execution_count": 53,
     "metadata": {},
     "output_type": "execute_result"
    }
   ],
   "source": [
    "username = html.select_one(\"span.p-nickname.vcard-username.d-block\").text.strip()\n",
    "username"
   ]
  },
  {
   "cell_type": "code",
   "execution_count": 54,
   "metadata": {},
   "outputs": [
    {
     "data": {
      "text/plain": [
       "'Head of Data Engineering at @Google-Developer-Student-Clubs-PUP-Main'"
      ]
     },
     "execution_count": 54,
     "metadata": {},
     "output_type": "execute_result"
    }
   ],
   "source": [
    "bio = html.select(\"div.user-profile-bio > * \")\n",
    "bio = (\" \").join([tag.text.strip() for tag in bio])\n",
    "bio"
   ]
  },
  {
   "cell_type": "code",
   "execution_count": 55,
   "metadata": {},
   "outputs": [
    {
     "data": {
      "text/plain": [
       "'424'"
      ]
     },
     "execution_count": 55,
     "metadata": {},
     "output_type": "execute_result"
    }
   ],
   "source": [
    "contrib = html.select_one(\"div.position-relative > h2.f4.text-normal.mb-2\").text\n",
    "last = (\"\").join([word for word in contrib if word.isnumeric()])\n",
    "last"
   ]
  },
  {
   "cell_type": "code",
   "execution_count": 56,
   "metadata": {},
   "outputs": [
    {
     "name": "stdout",
     "output_type": "stream",
     "text": [
      "followers 16\n",
      "following 32\n"
     ]
    }
   ],
   "source": [
    "tags = html.select(\"a.Link--secondary.no-underline.no-wrap\")\n",
    "followers = tags[0].select_one(\"span.text-bold.color-fg-default\").text\n",
    "following = tags[1].select_one(\"span.text-bold.color-fg-default\").text\n",
    "print(\"followers\", followers)\n",
    "print(\"following\", following)"
   ]
  },
  {
   "attachments": {},
   "cell_type": "markdown",
   "metadata": {},
   "source": [
    "# Importing Dataframe of lists of usernames"
   ]
  },
  {
   "cell_type": "code",
   "execution_count": 57,
   "metadata": {},
   "outputs": [
    {
     "data": {
      "text/html": [
       "<div>\n",
       "<style scoped>\n",
       "    .dataframe tbody tr th:only-of-type {\n",
       "        vertical-align: middle;\n",
       "    }\n",
       "\n",
       "    .dataframe tbody tr th {\n",
       "        vertical-align: top;\n",
       "    }\n",
       "\n",
       "    .dataframe thead th {\n",
       "        text-align: right;\n",
       "    }\n",
       "</style>\n",
       "<table border=\"1\" class=\"dataframe\">\n",
       "  <thead>\n",
       "    <tr style=\"text-align: right;\">\n",
       "      <th></th>\n",
       "      <th>Timestamp</th>\n",
       "      <th>Full Name (GN, LN)\\nex: Kevin Christian Amparado</th>\n",
       "      <th>Input Github Username:\\nex: Kevsteramp</th>\n",
       "    </tr>\n",
       "  </thead>\n",
       "  <tbody>\n",
       "    <tr>\n",
       "      <th>0</th>\n",
       "      <td>2023/03/13 6:13:53 PM GMT+8</td>\n",
       "      <td>Alexandre Pornea</td>\n",
       "      <td>alexandrepornea</td>\n",
       "    </tr>\n",
       "    <tr>\n",
       "      <th>1</th>\n",
       "      <td>2023/03/13 6:13:57 PM GMT+8</td>\n",
       "      <td>Arjay Rosel</td>\n",
       "      <td>r-json</td>\n",
       "    </tr>\n",
       "    <tr>\n",
       "      <th>2</th>\n",
       "      <td>2023/03/13 6:16:27 PM GMT+8</td>\n",
       "      <td>mark</td>\n",
       "      <td>markmcrg</td>\n",
       "    </tr>\n",
       "  </tbody>\n",
       "</table>\n",
       "</div>"
      ],
      "text/plain": [
       "                     Timestamp  \\\n",
       "0  2023/03/13 6:13:53 PM GMT+8   \n",
       "1  2023/03/13 6:13:57 PM GMT+8   \n",
       "2  2023/03/13 6:16:27 PM GMT+8   \n",
       "\n",
       "  Full Name (GN, LN)\\nex: Kevin Christian Amparado  \\\n",
       "0                                Alexandre Pornea    \n",
       "1                                      Arjay Rosel   \n",
       "2                                             mark   \n",
       "\n",
       "  Input Github Username:\\nex: Kevsteramp  \n",
       "0                        alexandrepornea  \n",
       "1                                 r-json  \n",
       "2                               markmcrg  "
      ]
     },
     "execution_count": 57,
     "metadata": {},
     "output_type": "execute_result"
    }
   ],
   "source": [
    "df = pd.read_csv(\"test forms.csv\")\n",
    "df.head()"
   ]
  },
  {
   "cell_type": "code",
   "execution_count": 58,
   "metadata": {},
   "outputs": [
    {
     "data": {
      "text/html": [
       "<div>\n",
       "<style scoped>\n",
       "    .dataframe tbody tr th:only-of-type {\n",
       "        vertical-align: middle;\n",
       "    }\n",
       "\n",
       "    .dataframe tbody tr th {\n",
       "        vertical-align: top;\n",
       "    }\n",
       "\n",
       "    .dataframe thead th {\n",
       "        text-align: right;\n",
       "    }\n",
       "</style>\n",
       "<table border=\"1\" class=\"dataframe\">\n",
       "  <thead>\n",
       "    <tr style=\"text-align: right;\">\n",
       "      <th></th>\n",
       "      <th>Full Name (GN, LN)\\nex: Kevin Christian Amparado</th>\n",
       "      <th>Input Github Username:\\nex: Kevsteramp</th>\n",
       "    </tr>\n",
       "  </thead>\n",
       "  <tbody>\n",
       "    <tr>\n",
       "      <th>0</th>\n",
       "      <td>Alexandre Pornea</td>\n",
       "      <td>alexandrepornea</td>\n",
       "    </tr>\n",
       "    <tr>\n",
       "      <th>1</th>\n",
       "      <td>Arjay Rosel</td>\n",
       "      <td>r-json</td>\n",
       "    </tr>\n",
       "    <tr>\n",
       "      <th>2</th>\n",
       "      <td>mark</td>\n",
       "      <td>markmcrg</td>\n",
       "    </tr>\n",
       "  </tbody>\n",
       "</table>\n",
       "</div>"
      ],
      "text/plain": [
       "  Full Name (GN, LN)\\nex: Kevin Christian Amparado  \\\n",
       "0                                Alexandre Pornea    \n",
       "1                                      Arjay Rosel   \n",
       "2                                             mark   \n",
       "\n",
       "  Input Github Username:\\nex: Kevsteramp  \n",
       "0                        alexandrepornea  \n",
       "1                                 r-json  \n",
       "2                               markmcrg  "
      ]
     },
     "execution_count": 58,
     "metadata": {},
     "output_type": "execute_result"
    }
   ],
   "source": [
    "df.drop('Timestamp', axis=1, inplace=True)\n",
    "df.head()"
   ]
  },
  {
   "cell_type": "code",
   "execution_count": 59,
   "metadata": {},
   "outputs": [
    {
     "data": {
      "text/html": [
       "<div>\n",
       "<style scoped>\n",
       "    .dataframe tbody tr th:only-of-type {\n",
       "        vertical-align: middle;\n",
       "    }\n",
       "\n",
       "    .dataframe tbody tr th {\n",
       "        vertical-align: top;\n",
       "    }\n",
       "\n",
       "    .dataframe thead th {\n",
       "        text-align: right;\n",
       "    }\n",
       "</style>\n",
       "<table border=\"1\" class=\"dataframe\">\n",
       "  <thead>\n",
       "    <tr style=\"text-align: right;\">\n",
       "      <th></th>\n",
       "      <th>name</th>\n",
       "      <th>github_username</th>\n",
       "    </tr>\n",
       "  </thead>\n",
       "  <tbody>\n",
       "    <tr>\n",
       "      <th>0</th>\n",
       "      <td>Alexandre Pornea</td>\n",
       "      <td>alexandrepornea</td>\n",
       "    </tr>\n",
       "    <tr>\n",
       "      <th>1</th>\n",
       "      <td>Arjay Rosel</td>\n",
       "      <td>r-json</td>\n",
       "    </tr>\n",
       "    <tr>\n",
       "      <th>2</th>\n",
       "      <td>mark</td>\n",
       "      <td>markmcrg</td>\n",
       "    </tr>\n",
       "  </tbody>\n",
       "</table>\n",
       "</div>"
      ],
      "text/plain": [
       "                name  github_username\n",
       "0  Alexandre Pornea   alexandrepornea\n",
       "1        Arjay Rosel           r-json\n",
       "2               mark         markmcrg"
      ]
     },
     "execution_count": 59,
     "metadata": {},
     "output_type": "execute_result"
    }
   ],
   "source": [
    "df.columns = ['name', 'github_username']\n",
    "df.head()"
   ]
  },
  {
   "cell_type": "code",
   "execution_count": 60,
   "metadata": {},
   "outputs": [
    {
     "data": {
      "text/html": [
       "<div>\n",
       "<style scoped>\n",
       "    .dataframe tbody tr th:only-of-type {\n",
       "        vertical-align: middle;\n",
       "    }\n",
       "\n",
       "    .dataframe tbody tr th {\n",
       "        vertical-align: top;\n",
       "    }\n",
       "\n",
       "    .dataframe thead th {\n",
       "        text-align: right;\n",
       "    }\n",
       "</style>\n",
       "<table border=\"1\" class=\"dataframe\">\n",
       "  <thead>\n",
       "    <tr style=\"text-align: right;\">\n",
       "      <th></th>\n",
       "      <th>name</th>\n",
       "      <th>github_username</th>\n",
       "      <th>github_link</th>\n",
       "    </tr>\n",
       "  </thead>\n",
       "  <tbody>\n",
       "    <tr>\n",
       "      <th>0</th>\n",
       "      <td>Alexandre Pornea</td>\n",
       "      <td>alexandrepornea</td>\n",
       "      <td>https://github.com/alexandrepornea</td>\n",
       "    </tr>\n",
       "    <tr>\n",
       "      <th>1</th>\n",
       "      <td>Arjay Rosel</td>\n",
       "      <td>r-json</td>\n",
       "      <td>https://github.com/r-json</td>\n",
       "    </tr>\n",
       "    <tr>\n",
       "      <th>2</th>\n",
       "      <td>mark</td>\n",
       "      <td>markmcrg</td>\n",
       "      <td>https://github.com/markmcrg</td>\n",
       "    </tr>\n",
       "  </tbody>\n",
       "</table>\n",
       "</div>"
      ],
      "text/plain": [
       "                name  github_username                         github_link\n",
       "0  Alexandre Pornea   alexandrepornea  https://github.com/alexandrepornea\n",
       "1        Arjay Rosel           r-json           https://github.com/r-json\n",
       "2               mark         markmcrg         https://github.com/markmcrg"
      ]
     },
     "execution_count": 60,
     "metadata": {},
     "output_type": "execute_result"
    }
   ],
   "source": [
    "df['github_link'] = ['https://github.com/' + username for username in df['github_username']]\n",
    "df.head()"
   ]
  },
  {
   "cell_type": "code",
   "execution_count": 61,
   "metadata": {},
   "outputs": [
    {
     "data": {
      "text/plain": [
       "<Response [200]>"
      ]
     },
     "execution_count": 61,
     "metadata": {},
     "output_type": "execute_result"
    }
   ],
   "source": [
    "r = requests.get(df['github_link'][0])\n",
    "r"
   ]
  },
  {
   "cell_type": "code",
   "execution_count": 62,
   "metadata": {},
   "outputs": [
    {
     "name": "stdout",
     "output_type": "stream",
     "text": [
      "scraping url: https://github.com/alexandrepornea\n",
      "https://github.com/alexandrepornea appended to output_dict\n",
      "scraping url: https://github.com/r-json\n",
      "https://github.com/r-json appended to output_dict\n",
      "scraping url: https://github.com/markmcrg\n",
      "https://github.com/markmcrg appended to output_dict\n",
      "0.040669584274291994 elapsed minutes\n"
     ]
    }
   ],
   "source": [
    "import time\n",
    "output_dict = {\n",
    "    'github_link': [],\n",
    "    'github_name': [],\n",
    "    'github_username': [],\n",
    "    'bio': [],\n",
    "    'contributions': [],\n",
    "    'followers': [],\n",
    "    'following': [] \n",
    "}\n",
    "\n",
    "def to_text(tag):\n",
    "    return tag.text if tag is not None else None\n",
    "\n",
    "start = time.time()\n",
    "for url in df['github_link']:\n",
    "    r = requests.get(url, headers=useragent)\n",
    "    html = BeautifulSoup(r.text)\n",
    "    \n",
    "    print(\"scraping url:\", url)\n",
    "\n",
    "    name = to_text(html.select_one(\"span.p-name.vcard-fullname.d-block.overflow-hidden\")).strip()\n",
    "    username = to_text(html.select_one(\"span.p-nickname.vcard-username.d-block\")).strip()\n",
    "    bio = html.select(\"div.user-profile-bio > * \")\n",
    "    clean_bio = (\" \").join([tag.text.strip() for tag in bio if tag is not None])\n",
    "    contrib = to_text(html.select_one(\"div.position-relative > h2.f4.text-normal.mb-2\"))\n",
    "    clean_contrib = (\"\").join([word for word in contrib if word.isnumeric()]) if contrib is not None else None\n",
    "    tags = html.select(\"a.Link--secondary.no-underline.no-wrap\")\n",
    "    try:\n",
    "        followers = to_text(tags[0].select_one(\"span.text-bold.color-fg-default\"))\n",
    "        following = to_text(tags[1].select_one(\"span.text-bold.color-fg-default\"))\n",
    "    except: \n",
    "        followers = \"\"\n",
    "        following = \"\"\n",
    "\n",
    "    output_dict['github_link'].append(url)\n",
    "    output_dict['github_name'].append(name)\n",
    "    output_dict['github_username'].append(username)\n",
    "    output_dict['bio'].append(clean_bio)\n",
    "    output_dict['contributions'].append(clean_contrib)\n",
    "    output_dict['followers'].append(followers)\n",
    "    output_dict['following'].append(following)\n",
    "\n",
    "    print(url, \"appended to output_dict\")\n",
    "    \n",
    "end = time.time()\n",
    "print(str((end - start)/ 60), \"elapsed minutes\")"
   ]
  },
  {
   "cell_type": "code",
   "execution_count": 63,
   "metadata": {},
   "outputs": [
    {
     "data": {
      "text/html": [
       "<div>\n",
       "<style scoped>\n",
       "    .dataframe tbody tr th:only-of-type {\n",
       "        vertical-align: middle;\n",
       "    }\n",
       "\n",
       "    .dataframe tbody tr th {\n",
       "        vertical-align: top;\n",
       "    }\n",
       "\n",
       "    .dataframe thead th {\n",
       "        text-align: right;\n",
       "    }\n",
       "</style>\n",
       "<table border=\"1\" class=\"dataframe\">\n",
       "  <thead>\n",
       "    <tr style=\"text-align: right;\">\n",
       "      <th></th>\n",
       "      <th>github_link</th>\n",
       "      <th>github_name</th>\n",
       "      <th>github_username</th>\n",
       "      <th>bio</th>\n",
       "      <th>contributions</th>\n",
       "      <th>followers</th>\n",
       "      <th>following</th>\n",
       "    </tr>\n",
       "  </thead>\n",
       "  <tbody>\n",
       "    <tr>\n",
       "      <th>0</th>\n",
       "      <td>https://github.com/alexandrepornea</td>\n",
       "      <td></td>\n",
       "      <td>alexandrepornea</td>\n",
       "      <td></td>\n",
       "      <td>1</td>\n",
       "      <td></td>\n",
       "      <td></td>\n",
       "    </tr>\n",
       "    <tr>\n",
       "      <th>1</th>\n",
       "      <td>https://github.com/r-json</td>\n",
       "      <td>Arjay Rosel</td>\n",
       "      <td>r-json</td>\n",
       "      <td></td>\n",
       "      <td>4</td>\n",
       "      <td>3</td>\n",
       "      <td>5</td>\n",
       "    </tr>\n",
       "    <tr>\n",
       "      <th>2</th>\n",
       "      <td>https://github.com/markmcrg</td>\n",
       "      <td>Mark</td>\n",
       "      <td>markmcrg</td>\n",
       "      <td>Data Engineering Fellow Lead at GDSC - PUP Main</td>\n",
       "      <td>1355</td>\n",
       "      <td>4</td>\n",
       "      <td>6</td>\n",
       "    </tr>\n",
       "  </tbody>\n",
       "</table>\n",
       "</div>"
      ],
      "text/plain": [
       "                          github_link  github_name  github_username  \\\n",
       "0  https://github.com/alexandrepornea               alexandrepornea   \n",
       "1           https://github.com/r-json  Arjay Rosel           r-json   \n",
       "2         https://github.com/markmcrg         Mark         markmcrg   \n",
       "\n",
       "                                               bio contributions followers  \\\n",
       "0                                                              1             \n",
       "1                                                              4         3   \n",
       "2  Data Engineering Fellow Lead at GDSC - PUP Main          1355         4   \n",
       "\n",
       "  following  \n",
       "0            \n",
       "1         5  \n",
       "2         6  "
      ]
     },
     "execution_count": 63,
     "metadata": {},
     "output_type": "execute_result"
    }
   ],
   "source": [
    "df2 = pd.DataFrame(output_dict)\n",
    "df2"
   ]
  },
  {
   "cell_type": "code",
   "execution_count": 64,
   "metadata": {},
   "outputs": [
    {
     "data": {
      "text/html": [
       "<div>\n",
       "<style scoped>\n",
       "    .dataframe tbody tr th:only-of-type {\n",
       "        vertical-align: middle;\n",
       "    }\n",
       "\n",
       "    .dataframe tbody tr th {\n",
       "        vertical-align: top;\n",
       "    }\n",
       "\n",
       "    .dataframe thead th {\n",
       "        text-align: right;\n",
       "    }\n",
       "</style>\n",
       "<table border=\"1\" class=\"dataframe\">\n",
       "  <thead>\n",
       "    <tr style=\"text-align: right;\">\n",
       "      <th></th>\n",
       "      <th>name</th>\n",
       "      <th>github_username</th>\n",
       "      <th>github_link</th>\n",
       "      <th>github_name</th>\n",
       "      <th>bio</th>\n",
       "      <th>contributions</th>\n",
       "      <th>followers</th>\n",
       "      <th>following</th>\n",
       "    </tr>\n",
       "  </thead>\n",
       "  <tbody>\n",
       "    <tr>\n",
       "      <th>0</th>\n",
       "      <td>Alexandre Pornea</td>\n",
       "      <td>alexandrepornea</td>\n",
       "      <td>https://github.com/alexandrepornea</td>\n",
       "      <td></td>\n",
       "      <td></td>\n",
       "      <td>1</td>\n",
       "      <td></td>\n",
       "      <td></td>\n",
       "    </tr>\n",
       "    <tr>\n",
       "      <th>1</th>\n",
       "      <td>Arjay Rosel</td>\n",
       "      <td>r-json</td>\n",
       "      <td>https://github.com/r-json</td>\n",
       "      <td>Arjay Rosel</td>\n",
       "      <td></td>\n",
       "      <td>4</td>\n",
       "      <td>3</td>\n",
       "      <td>5</td>\n",
       "    </tr>\n",
       "    <tr>\n",
       "      <th>2</th>\n",
       "      <td>mark</td>\n",
       "      <td>markmcrg</td>\n",
       "      <td>https://github.com/markmcrg</td>\n",
       "      <td>Mark</td>\n",
       "      <td>Data Engineering Fellow Lead at GDSC - PUP Main</td>\n",
       "      <td>1355</td>\n",
       "      <td>4</td>\n",
       "      <td>6</td>\n",
       "    </tr>\n",
       "  </tbody>\n",
       "</table>\n",
       "</div>"
      ],
      "text/plain": [
       "                name  github_username                         github_link  \\\n",
       "0  Alexandre Pornea   alexandrepornea  https://github.com/alexandrepornea   \n",
       "1        Arjay Rosel           r-json           https://github.com/r-json   \n",
       "2               mark         markmcrg         https://github.com/markmcrg   \n",
       "\n",
       "   github_name                                              bio contributions  \\\n",
       "0                                                                           1   \n",
       "1  Arjay Rosel                                                              4   \n",
       "2         Mark  Data Engineering Fellow Lead at GDSC - PUP Main          1355   \n",
       "\n",
       "  followers following  \n",
       "0                      \n",
       "1         3         5  \n",
       "2         4         6  "
      ]
     },
     "execution_count": 64,
     "metadata": {},
     "output_type": "execute_result"
    }
   ],
   "source": [
    "out_df = pd.merge(df, df2, on=['github_link', 'github_username'], how='left')\n",
    "out_df"
   ]
  }
 ],
 "metadata": {
  "kernelspec": {
   "display_name": "Python 3",
   "language": "python",
   "name": "python3"
  },
  "language_info": {
   "codemirror_mode": {
    "name": "ipython",
    "version": 3
   },
   "file_extension": ".py",
   "mimetype": "text/x-python",
   "name": "python",
   "nbconvert_exporter": "python",
   "pygments_lexer": "ipython3",
   "version": "3.11.1"
  },
  "orig_nbformat": 4
 },
 "nbformat": 4,
 "nbformat_minor": 2
}
